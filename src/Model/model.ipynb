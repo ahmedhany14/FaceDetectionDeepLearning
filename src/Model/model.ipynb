{
 "cells": [
  {
   "cell_type": "code",
   "execution_count": 26,
   "metadata": {},
   "outputs": [],
   "source": [
    "import os\n",
    "import sys\n",
    "import json\n",
    "import cv2\n",
    "import pandas as pd\n",
    "import matplotlib.pyplot as plt\n",
    "import numpy as np\n",
    "from tensorflow.keras.models import load_model\n",
    "from tensorflow.keras.optimizers import Adam, SGD\n",
    "from tensorflow.keras.layers import (\n",
    "    Dense,\n",
    "    Dropout,\n",
    "    Conv2D,\n",
    "    MaxPooling2D,\n",
    "    Flatten,\n",
    "    GlobalMaxPooling2D,\n",
    "    Input,\n",
    ")\n",
    "from tensorflow.keras.models import Sequential, Model\n",
    "from tensorflow.keras.losses import (\n",
    "    categorical_crossentropy,\n",
    "    binary_crossentropy,\n",
    ")\n",
    "from tensorflow.keras.applications import VGG19, VGG16, ResNet50, InceptionV3\n",
    "\n",
    "import tensorflow as tf"
   ]
  },
  {
   "cell_type": "code",
   "execution_count": 27,
   "metadata": {},
   "outputs": [
    {
     "name": "stdout",
     "output_type": "stream",
     "text": [
      "2.17.0\n",
      "Num GPUs Available:  1\n",
      "[PhysicalDevice(name='/physical_device:GPU:0', device_type='GPU')]\n"
     ]
    }
   ],
   "source": [
    "print(tf.__version__)\n",
    "\n",
    "print(\"Num GPUs Available: \", len(tf.config.experimental.list_physical_devices(\"GPU\")))\n",
    "print(tf.config.experimental.list_physical_devices(\"GPU\"))"
   ]
  },
  {
   "cell_type": "code",
   "execution_count": 28,
   "metadata": {},
   "outputs": [],
   "source": [
    "train_image = os.listdir(\n",
    "    \"/home/hany_jr/Ai/FaceDetectionDeepLearning/Dataset/train_augm/images\"\n",
    ")\n",
    "test_image = os.listdir(\n",
    "    \"/home/hany_jr/Ai/FaceDetectionDeepLearning/Dataset/test_augm/images\"\n",
    ")\n",
    "valid_image = os.listdir(\n",
    "    \"/home/hany_jr/Ai/FaceDetectionDeepLearning/Dataset/valid_augm/images\"\n",
    ")\n",
    "train_image = sorted(train_image)\n",
    "test_image = sorted(test_image)\n",
    "valid_image = sorted(valid_image)"
   ]
  },
  {
   "cell_type": "code",
   "execution_count": 29,
   "metadata": {},
   "outputs": [],
   "source": [
    "train_label = os.listdir(\n",
    "    \"/home/hany_jr/Ai/FaceDetectionDeepLearning/Dataset/train_augm/labels\"\n",
    ")\n",
    "test_label = os.listdir(\n",
    "    \"/home/hany_jr/Ai/FaceDetectionDeepLearning/Dataset/test_augm/labels\"\n",
    ")\n",
    "valid_label = os.listdir(\n",
    "    \"/home/hany_jr/Ai/FaceDetectionDeepLearning/Dataset/valid_augm/labels\"\n",
    ")\n",
    "\n",
    "train_label = sorted(train_label)\n",
    "test_label = sorted(test_label)\n",
    "valid_label = sorted(valid_label)"
   ]
  },
  {
   "cell_type": "markdown",
   "metadata": {},
   "source": [
    "## convert them to dataframe "
   ]
  },
  {
   "cell_type": "code",
   "execution_count": 30,
   "metadata": {},
   "outputs": [],
   "source": [
    "def load_json_data(file_path):\n",
    "    with open(file_path, \"r\") as f:\n",
    "        data = json.load(f)\n",
    "\n",
    "    face = data[\"shapes\"][0][\"label\"]\n",
    "    if face == \"face\":\n",
    "        box = data[\"shapes\"][0][\"points\"]\n",
    "        result = [1, box[0][0], box[0][1], box[1][0], box[1][1]]\n",
    "    else:\n",
    "        result = [0, 0, 0, 0, 0]\n",
    "\n",
    "    return result\n",
    "\n",
    "\n",
    "face = []\n",
    "x1 = []\n",
    "y1 = []\n",
    "x2 = []\n",
    "y2 = []\n",
    "for i in range(len(train_label)):\n",
    "    train_label[i] = load_json_data(\n",
    "        \"/home/hany_jr/Ai/FaceDetectionDeepLearning/Dataset/train_augm/labels/\"\n",
    "        + train_label[i]\n",
    "    )\n",
    "    face.append(train_label[i][0])\n",
    "    x1.append(train_label[i][1])\n",
    "    y1.append(train_label[i][2])\n",
    "    x2.append(train_label[i][3])\n",
    "    y2.append(train_label[i][4])\n",
    "\n",
    "train_dataFrame = pd.DataFrame(\n",
    "    {\n",
    "        \"image\": train_image,\n",
    "        \"face\": face,\n",
    "        \"x1\": x1,\n",
    "        \"y1\": y1,\n",
    "        \"x2\": x2,\n",
    "        \"y2\": y2,\n",
    "    }\n",
    ")\n",
    "\n",
    "face = []\n",
    "x1 = []\n",
    "y1 = []\n",
    "x2 = []\n",
    "y2 = []\n",
    "\n",
    "for i in range(len(test_label)):\n",
    "    test_label[i] = load_json_data(\n",
    "        \"/home/hany_jr/Ai/FaceDetectionDeepLearning/Dataset/test_augm/labels/\"\n",
    "        + test_label[i]\n",
    "    )\n",
    "    face.append(test_label[i][0])\n",
    "    x1.append(test_label[i][1])\n",
    "    y1.append(test_label[i][2])\n",
    "    x2.append(test_label[i][3])\n",
    "    y2.append(test_label[i][4])\n",
    "\n",
    "test_dataFrame = pd.DataFrame(\n",
    "    {\n",
    "        \"image\": test_image,\n",
    "        \"face\": face,\n",
    "        \"x1\": x1,\n",
    "        \"y1\": y1,\n",
    "        \"x2\": x2,\n",
    "        \"y2\": y2,\n",
    "    }\n",
    ")\n",
    "\n",
    "\n",
    "face = []\n",
    "x1 = []\n",
    "y1 = []\n",
    "x2 = []\n",
    "y2 = []\n",
    "\n",
    "for i in range(len(valid_label)):\n",
    "    valid_label[i] = load_json_data(\n",
    "        \"/home/hany_jr/Ai/FaceDetectionDeepLearning/Dataset/valid_augm/labels/\"\n",
    "        + valid_label[i]\n",
    "    )\n",
    "    face.append(valid_label[i][0])\n",
    "    x1.append(valid_label[i][1])\n",
    "    y1.append(valid_label[i][2])\n",
    "    x2.append(valid_label[i][3])\n",
    "    y2.append(valid_label[i][4])\n",
    "\n",
    "valid_dataFrame = pd.DataFrame(\n",
    "    {\n",
    "        \"image\": valid_image,\n",
    "        \"face\": face,\n",
    "        \"x1\": x1,\n",
    "        \"y1\": y1,\n",
    "        \"x2\": x2,\n",
    "        \"y2\": y2,\n",
    "    }\n",
    ")"
   ]
  },
  {
   "cell_type": "code",
   "execution_count": 31,
   "metadata": {},
   "outputs": [],
   "source": [
    "face.clear()\n",
    "x1.clear()\n",
    "y1.clear()\n",
    "x2.clear()\n",
    "y2.clear()\n",
    "train_image.clear()\n",
    "test_image.clear()\n",
    "valid_image.clear()\n",
    "train_label.clear()\n",
    "test_label.clear()\n",
    "valid_label.clear()"
   ]
  },
  {
   "cell_type": "code",
   "execution_count": 32,
   "metadata": {},
   "outputs": [
    {
     "data": {
      "text/html": [
       "<div>\n",
       "<style scoped>\n",
       "    .dataframe tbody tr th:only-of-type {\n",
       "        vertical-align: middle;\n",
       "    }\n",
       "\n",
       "    .dataframe tbody tr th {\n",
       "        vertical-align: top;\n",
       "    }\n",
       "\n",
       "    .dataframe thead th {\n",
       "        text-align: right;\n",
       "    }\n",
       "</style>\n",
       "<table border=\"1\" class=\"dataframe\">\n",
       "  <thead>\n",
       "    <tr style=\"text-align: right;\">\n",
       "      <th></th>\n",
       "      <th>image</th>\n",
       "      <th>face</th>\n",
       "      <th>x1</th>\n",
       "      <th>y1</th>\n",
       "      <th>x2</th>\n",
       "      <th>y2</th>\n",
       "    </tr>\n",
       "  </thead>\n",
       "  <tbody>\n",
       "    <tr>\n",
       "      <th>0</th>\n",
       "      <td>00a6fab8-7396-11ef-a98c-9c443d1ab0ba0.jpg</td>\n",
       "      <td>0</td>\n",
       "      <td>0.0</td>\n",
       "      <td>0.000000</td>\n",
       "      <td>0.000000</td>\n",
       "      <td>0.000000</td>\n",
       "    </tr>\n",
       "    <tr>\n",
       "      <th>1</th>\n",
       "      <td>00a6fab8-7396-11ef-a98c-9c443d1ab0ba1.jpg</td>\n",
       "      <td>1</td>\n",
       "      <td>434.0</td>\n",
       "      <td>157.000000</td>\n",
       "      <td>268.000000</td>\n",
       "      <td>0.000000</td>\n",
       "    </tr>\n",
       "    <tr>\n",
       "      <th>2</th>\n",
       "      <td>00a6fab8-7396-11ef-a98c-9c443d1ab0ba10.jpg</td>\n",
       "      <td>1</td>\n",
       "      <td>355.0</td>\n",
       "      <td>249.999985</td>\n",
       "      <td>189.000015</td>\n",
       "      <td>76.000008</td>\n",
       "    </tr>\n",
       "    <tr>\n",
       "      <th>3</th>\n",
       "      <td>00a6fab8-7396-11ef-a98c-9c443d1ab0ba11.jpg</td>\n",
       "      <td>1</td>\n",
       "      <td>217.0</td>\n",
       "      <td>256.000000</td>\n",
       "      <td>51.000015</td>\n",
       "      <td>118.000008</td>\n",
       "    </tr>\n",
       "    <tr>\n",
       "      <th>4</th>\n",
       "      <td>00a6fab8-7396-11ef-a98c-9c443d1ab0ba12.jpg</td>\n",
       "      <td>0</td>\n",
       "      <td>0.0</td>\n",
       "      <td>0.000000</td>\n",
       "      <td>0.000000</td>\n",
       "      <td>0.000000</td>\n",
       "    </tr>\n",
       "  </tbody>\n",
       "</table>\n",
       "</div>"
      ],
      "text/plain": [
       "                                        image  face     x1          y1  \\\n",
       "0   00a6fab8-7396-11ef-a98c-9c443d1ab0ba0.jpg     0    0.0    0.000000   \n",
       "1   00a6fab8-7396-11ef-a98c-9c443d1ab0ba1.jpg     1  434.0  157.000000   \n",
       "2  00a6fab8-7396-11ef-a98c-9c443d1ab0ba10.jpg     1  355.0  249.999985   \n",
       "3  00a6fab8-7396-11ef-a98c-9c443d1ab0ba11.jpg     1  217.0  256.000000   \n",
       "4  00a6fab8-7396-11ef-a98c-9c443d1ab0ba12.jpg     0    0.0    0.000000   \n",
       "\n",
       "           x2          y2  \n",
       "0    0.000000    0.000000  \n",
       "1  268.000000    0.000000  \n",
       "2  189.000015   76.000008  \n",
       "3   51.000015  118.000008  \n",
       "4    0.000000    0.000000  "
      ]
     },
     "execution_count": 32,
     "metadata": {},
     "output_type": "execute_result"
    }
   ],
   "source": [
    "train_dataFrame.head()"
   ]
  },
  {
   "cell_type": "code",
   "execution_count": 33,
   "metadata": {},
   "outputs": [
    {
     "data": {
      "text/html": [
       "<div>\n",
       "<style scoped>\n",
       "    .dataframe tbody tr th:only-of-type {\n",
       "        vertical-align: middle;\n",
       "    }\n",
       "\n",
       "    .dataframe tbody tr th {\n",
       "        vertical-align: top;\n",
       "    }\n",
       "\n",
       "    .dataframe thead th {\n",
       "        text-align: right;\n",
       "    }\n",
       "</style>\n",
       "<table border=\"1\" class=\"dataframe\">\n",
       "  <thead>\n",
       "    <tr style=\"text-align: right;\">\n",
       "      <th></th>\n",
       "      <th>image</th>\n",
       "      <th>face</th>\n",
       "      <th>x1</th>\n",
       "      <th>y1</th>\n",
       "      <th>x2</th>\n",
       "      <th>y2</th>\n",
       "    </tr>\n",
       "  </thead>\n",
       "  <tbody>\n",
       "    <tr>\n",
       "      <th>0</th>\n",
       "      <td>e4af90cc-7395-11ef-a98c-9c443d1ab0ba0.jpg</td>\n",
       "      <td>0</td>\n",
       "      <td>0.000000</td>\n",
       "      <td>0.0</td>\n",
       "      <td>0.000000</td>\n",
       "      <td>0.000000</td>\n",
       "    </tr>\n",
       "    <tr>\n",
       "      <th>1</th>\n",
       "      <td>e4af90cc-7395-11ef-a98c-9c443d1ab0ba1.jpg</td>\n",
       "      <td>1</td>\n",
       "      <td>236.999985</td>\n",
       "      <td>256.0</td>\n",
       "      <td>44.000031</td>\n",
       "      <td>49.999989</td>\n",
       "    </tr>\n",
       "    <tr>\n",
       "      <th>2</th>\n",
       "      <td>e4af90cc-7395-11ef-a98c-9c443d1ab0ba10.jpg</td>\n",
       "      <td>1</td>\n",
       "      <td>512.000000</td>\n",
       "      <td>256.0</td>\n",
       "      <td>452.000000</td>\n",
       "      <td>49.999989</td>\n",
       "    </tr>\n",
       "    <tr>\n",
       "      <th>3</th>\n",
       "      <td>e4af90cc-7395-11ef-a98c-9c443d1ab0ba11.jpg</td>\n",
       "      <td>0</td>\n",
       "      <td>0.000000</td>\n",
       "      <td>0.0</td>\n",
       "      <td>0.000000</td>\n",
       "      <td>0.000000</td>\n",
       "    </tr>\n",
       "    <tr>\n",
       "      <th>4</th>\n",
       "      <td>e4af90cc-7395-11ef-a98c-9c443d1ab0ba12.jpg</td>\n",
       "      <td>0</td>\n",
       "      <td>0.000000</td>\n",
       "      <td>0.0</td>\n",
       "      <td>0.000000</td>\n",
       "      <td>0.000000</td>\n",
       "    </tr>\n",
       "  </tbody>\n",
       "</table>\n",
       "</div>"
      ],
      "text/plain": [
       "                                        image  face          x1     y1  \\\n",
       "0   e4af90cc-7395-11ef-a98c-9c443d1ab0ba0.jpg     0    0.000000    0.0   \n",
       "1   e4af90cc-7395-11ef-a98c-9c443d1ab0ba1.jpg     1  236.999985  256.0   \n",
       "2  e4af90cc-7395-11ef-a98c-9c443d1ab0ba10.jpg     1  512.000000  256.0   \n",
       "3  e4af90cc-7395-11ef-a98c-9c443d1ab0ba11.jpg     0    0.000000    0.0   \n",
       "4  e4af90cc-7395-11ef-a98c-9c443d1ab0ba12.jpg     0    0.000000    0.0   \n",
       "\n",
       "           x2         y2  \n",
       "0    0.000000   0.000000  \n",
       "1   44.000031  49.999989  \n",
       "2  452.000000  49.999989  \n",
       "3    0.000000   0.000000  \n",
       "4    0.000000   0.000000  "
      ]
     },
     "execution_count": 33,
     "metadata": {},
     "output_type": "execute_result"
    }
   ],
   "source": [
    "test_dataFrame.head()"
   ]
  },
  {
   "cell_type": "code",
   "execution_count": 34,
   "metadata": {},
   "outputs": [
    {
     "data": {
      "text/html": [
       "<div>\n",
       "<style scoped>\n",
       "    .dataframe tbody tr th:only-of-type {\n",
       "        vertical-align: middle;\n",
       "    }\n",
       "\n",
       "    .dataframe tbody tr th {\n",
       "        vertical-align: top;\n",
       "    }\n",
       "\n",
       "    .dataframe thead th {\n",
       "        text-align: right;\n",
       "    }\n",
       "</style>\n",
       "<table border=\"1\" class=\"dataframe\">\n",
       "  <thead>\n",
       "    <tr style=\"text-align: right;\">\n",
       "      <th></th>\n",
       "      <th>image</th>\n",
       "      <th>face</th>\n",
       "      <th>x1</th>\n",
       "      <th>y1</th>\n",
       "      <th>x2</th>\n",
       "      <th>y2</th>\n",
       "    </tr>\n",
       "  </thead>\n",
       "  <tbody>\n",
       "    <tr>\n",
       "      <th>0</th>\n",
       "      <td>db991c9c-7395-11ef-a98c-9c443d1ab0ba0.jpg</td>\n",
       "      <td>1</td>\n",
       "      <td>512.0</td>\n",
       "      <td>79.000008</td>\n",
       "      <td>283.999969</td>\n",
       "      <td>0.0</td>\n",
       "    </tr>\n",
       "    <tr>\n",
       "      <th>1</th>\n",
       "      <td>db991c9c-7395-11ef-a98c-9c443d1ab0ba1.jpg</td>\n",
       "      <td>1</td>\n",
       "      <td>512.0</td>\n",
       "      <td>256.000000</td>\n",
       "      <td>306.000000</td>\n",
       "      <td>97.0</td>\n",
       "    </tr>\n",
       "    <tr>\n",
       "      <th>2</th>\n",
       "      <td>db991c9c-7395-11ef-a98c-9c443d1ab0ba10.jpg</td>\n",
       "      <td>1</td>\n",
       "      <td>442.0</td>\n",
       "      <td>256.000000</td>\n",
       "      <td>208.999969</td>\n",
       "      <td>0.0</td>\n",
       "    </tr>\n",
       "    <tr>\n",
       "      <th>3</th>\n",
       "      <td>db991c9c-7395-11ef-a98c-9c443d1ab0ba11.jpg</td>\n",
       "      <td>0</td>\n",
       "      <td>0.0</td>\n",
       "      <td>0.000000</td>\n",
       "      <td>0.000000</td>\n",
       "      <td>0.0</td>\n",
       "    </tr>\n",
       "    <tr>\n",
       "      <th>4</th>\n",
       "      <td>db991c9c-7395-11ef-a98c-9c443d1ab0ba12.jpg</td>\n",
       "      <td>1</td>\n",
       "      <td>512.0</td>\n",
       "      <td>238.000000</td>\n",
       "      <td>375.000000</td>\n",
       "      <td>0.0</td>\n",
       "    </tr>\n",
       "  </tbody>\n",
       "</table>\n",
       "</div>"
      ],
      "text/plain": [
       "                                        image  face     x1          y1  \\\n",
       "0   db991c9c-7395-11ef-a98c-9c443d1ab0ba0.jpg     1  512.0   79.000008   \n",
       "1   db991c9c-7395-11ef-a98c-9c443d1ab0ba1.jpg     1  512.0  256.000000   \n",
       "2  db991c9c-7395-11ef-a98c-9c443d1ab0ba10.jpg     1  442.0  256.000000   \n",
       "3  db991c9c-7395-11ef-a98c-9c443d1ab0ba11.jpg     0    0.0    0.000000   \n",
       "4  db991c9c-7395-11ef-a98c-9c443d1ab0ba12.jpg     1  512.0  238.000000   \n",
       "\n",
       "           x2    y2  \n",
       "0  283.999969   0.0  \n",
       "1  306.000000  97.0  \n",
       "2  208.999969   0.0  \n",
       "3    0.000000   0.0  \n",
       "4  375.000000   0.0  "
      ]
     },
     "execution_count": 34,
     "metadata": {},
     "output_type": "execute_result"
    }
   ],
   "source": [
    "valid_dataFrame.head()"
   ]
  },
  {
   "cell_type": "markdown",
   "metadata": {},
   "source": [
    "## [Prepare data format]()"
   ]
  },
  {
   "cell_type": "code",
   "execution_count": 35,
   "metadata": {},
   "outputs": [],
   "source": [
    "train_images = (\n",
    "    \"/home/hany_jr/Ai/FaceDetectionDeepLearning/Dataset/train_augm/images/\"\n",
    "    + train_dataFrame.iloc[:, 0]\n",
    ")\n",
    "test_images = (\n",
    "    \"/home/hany_jr/Ai/FaceDetectionDeepLearning/Dataset/test_augm/images/\"\n",
    "    + test_dataFrame.iloc[:, 0]\n",
    ")\n",
    "valid_images = (\n",
    "    \"/home/hany_jr/Ai/FaceDetectionDeepLearning/Dataset/valid_augm/images/\"\n",
    "    + valid_dataFrame.iloc[:, 0]\n",
    ")\n",
    "\n",
    "train_labels = train_dataFrame.iloc[:, 1:]\n",
    "test_labels = test_dataFrame.iloc[:, 1:]\n",
    "valid_labels = valid_dataFrame.iloc[:, 1:]"
   ]
  },
  {
   "cell_type": "code",
   "execution_count": 36,
   "metadata": {},
   "outputs": [
    {
     "data": {
      "text/plain": [
       "'/home/hany_jr/Ai/FaceDetectionDeepLearning/Dataset/valid_augm/images/db991c9c-7395-11ef-a98c-9c443d1ab0ba0.jpg'"
      ]
     },
     "execution_count": 36,
     "metadata": {},
     "output_type": "execute_result"
    }
   ],
   "source": [
    "valid_images[0]"
   ]
  },
  {
   "cell_type": "code",
   "execution_count": 37,
   "metadata": {},
   "outputs": [],
   "source": [
    "def read_image(image_path, label):\n",
    "    image = tf.io.read_file(image_path)\n",
    "    image = tf.image.decode_jpeg(image, channels=3)\n",
    "    image.set_shape((256, 512, 3))\n",
    "\n",
    "    # normalize image\n",
    "\n",
    "    image = tf.cast(image, tf.float32) / 255.0\n",
    "\n",
    "    label[0].set_shape([])\n",
    "    label[1].set_shape([])\n",
    "    label[2].set_shape([])\n",
    "    label[3].set_shape([])\n",
    "    label[4].set_shape([])\n",
    "\n",
    "    face = label[0]\n",
    "    box = [label[1], label[2], label[3], label[4]]\n",
    "    return image, [face], box"
   ]
  },
  {
   "cell_type": "code",
   "execution_count": 38,
   "metadata": {},
   "outputs": [],
   "source": [
    "train_dataset = tf.data.Dataset.from_tensor_slices((train_images, train_labels))\n",
    "train_dataset = (\n",
    "    train_dataset.shuffle(buffer_size=len(train_labels)).map(read_image).batch(1)\n",
    ")\n",
    "\n",
    "\n",
    "test_dataset = tf.data.Dataset.from_tensor_slices((test_images, test_labels))\n",
    "test_dataset = (\n",
    "    test_dataset.shuffle(buffer_size=len(test_labels)).map(read_image).batch(1)\n",
    ")\n",
    "\n",
    "valid_dataset = tf.data.Dataset.from_tensor_slices((valid_images, valid_labels))\n",
    "valid_dataset = (\n",
    "    valid_dataset.shuffle(buffer_size=len(valid_labels)).map(read_image).batch(1)\n",
    ")"
   ]
  },
  {
   "cell_type": "code",
   "execution_count": 39,
   "metadata": {},
   "outputs": [
    {
     "data": {
      "text/plain": [
       "(1, 256, 512, 3)"
      ]
     },
     "execution_count": 39,
     "metadata": {},
     "output_type": "execute_result"
    }
   ],
   "source": [
    "train_dataset.as_numpy_iterator().next()[0].shape"
   ]
  },
  {
   "cell_type": "code",
   "execution_count": 40,
   "metadata": {},
   "outputs": [
    {
     "data": {
      "text/html": [
       "<pre style=\"white-space:pre;overflow-x:auto;line-height:normal;font-family:Menlo,'DejaVu Sans Mono',consolas,'Courier New',monospace\"><span style=\"font-weight: bold\">Model: \"functional_1\"</span>\n",
       "</pre>\n"
      ],
      "text/plain": [
       "\u001b[1mModel: \"functional_1\"\u001b[0m\n"
      ]
     },
     "metadata": {},
     "output_type": "display_data"
    },
    {
     "data": {
      "text/html": [
       "<pre style=\"white-space:pre;overflow-x:auto;line-height:normal;font-family:Menlo,'DejaVu Sans Mono',consolas,'Courier New',monospace\">┏━━━━━━━━━━━━━━━━━━━━━┳━━━━━━━━━━━━━━━━━━━┳━━━━━━━━━━━━┳━━━━━━━━━━━━━━━━━━━┓\n",
       "┃<span style=\"font-weight: bold\"> Layer (type)        </span>┃<span style=\"font-weight: bold\"> Output Shape      </span>┃<span style=\"font-weight: bold\">    Param # </span>┃<span style=\"font-weight: bold\"> Connected to      </span>┃\n",
       "┡━━━━━━━━━━━━━━━━━━━━━╇━━━━━━━━━━━━━━━━━━━╇━━━━━━━━━━━━╇━━━━━━━━━━━━━━━━━━━┩\n",
       "│ input_layer_2       │ (<span style=\"color: #00d7ff; text-decoration-color: #00d7ff\">None</span>, <span style=\"color: #00af00; text-decoration-color: #00af00\">256</span>, <span style=\"color: #00af00; text-decoration-color: #00af00\">512</span>,  │          <span style=\"color: #00af00; text-decoration-color: #00af00\">0</span> │ -                 │\n",
       "│ (<span style=\"color: #0087ff; text-decoration-color: #0087ff\">InputLayer</span>)        │ <span style=\"color: #00af00; text-decoration-color: #00af00\">3</span>)                │            │                   │\n",
       "├─────────────────────┼───────────────────┼────────────┼───────────────────┤\n",
       "│ vgg19 (<span style=\"color: #0087ff; text-decoration-color: #0087ff\">Functional</span>)  │ (<span style=\"color: #00d7ff; text-decoration-color: #00d7ff\">None</span>, <span style=\"color: #00af00; text-decoration-color: #00af00\">8</span>, <span style=\"color: #00af00; text-decoration-color: #00af00\">16</span>,     │ <span style=\"color: #00af00; text-decoration-color: #00af00\">20,024,384</span> │ input_layer_2[<span style=\"color: #00af00; text-decoration-color: #00af00\">0</span>]… │\n",
       "│                     │ <span style=\"color: #00af00; text-decoration-color: #00af00\">512</span>)              │            │                   │\n",
       "├─────────────────────┼───────────────────┼────────────┼───────────────────┤\n",
       "│ global_max_pooling… │ (<span style=\"color: #00d7ff; text-decoration-color: #00d7ff\">None</span>, <span style=\"color: #00af00; text-decoration-color: #00af00\">512</span>)       │          <span style=\"color: #00af00; text-decoration-color: #00af00\">0</span> │ vgg19[<span style=\"color: #00af00; text-decoration-color: #00af00\">0</span>][<span style=\"color: #00af00; text-decoration-color: #00af00\">0</span>]       │\n",
       "│ (<span style=\"color: #0087ff; text-decoration-color: #0087ff\">GlobalMaxPooling2…</span> │                   │            │                   │\n",
       "├─────────────────────┼───────────────────┼────────────┼───────────────────┤\n",
       "│ global_max_pooling… │ (<span style=\"color: #00d7ff; text-decoration-color: #00d7ff\">None</span>, <span style=\"color: #00af00; text-decoration-color: #00af00\">512</span>)       │          <span style=\"color: #00af00; text-decoration-color: #00af00\">0</span> │ vgg19[<span style=\"color: #00af00; text-decoration-color: #00af00\">0</span>][<span style=\"color: #00af00; text-decoration-color: #00af00\">0</span>]       │\n",
       "│ (<span style=\"color: #0087ff; text-decoration-color: #0087ff\">GlobalMaxPooling2…</span> │                   │            │                   │\n",
       "├─────────────────────┼───────────────────┼────────────┼───────────────────┤\n",
       "│ dense_4 (<span style=\"color: #0087ff; text-decoration-color: #0087ff\">Dense</span>)     │ (<span style=\"color: #00d7ff; text-decoration-color: #00d7ff\">None</span>, <span style=\"color: #00af00; text-decoration-color: #00af00\">2048</span>)      │  <span style=\"color: #00af00; text-decoration-color: #00af00\">1,050,624</span> │ global_max_pooli… │\n",
       "├─────────────────────┼───────────────────┼────────────┼───────────────────┤\n",
       "│ dense_6 (<span style=\"color: #0087ff; text-decoration-color: #0087ff\">Dense</span>)     │ (<span style=\"color: #00d7ff; text-decoration-color: #00d7ff\">None</span>, <span style=\"color: #00af00; text-decoration-color: #00af00\">2048</span>)      │  <span style=\"color: #00af00; text-decoration-color: #00af00\">1,050,624</span> │ global_max_pooli… │\n",
       "├─────────────────────┼───────────────────┼────────────┼───────────────────┤\n",
       "│ dense_5 (<span style=\"color: #0087ff; text-decoration-color: #0087ff\">Dense</span>)     │ (<span style=\"color: #00d7ff; text-decoration-color: #00d7ff\">None</span>, <span style=\"color: #00af00; text-decoration-color: #00af00\">1</span>)         │      <span style=\"color: #00af00; text-decoration-color: #00af00\">2,049</span> │ dense_4[<span style=\"color: #00af00; text-decoration-color: #00af00\">0</span>][<span style=\"color: #00af00; text-decoration-color: #00af00\">0</span>]     │\n",
       "├─────────────────────┼───────────────────┼────────────┼───────────────────┤\n",
       "│ dense_7 (<span style=\"color: #0087ff; text-decoration-color: #0087ff\">Dense</span>)     │ (<span style=\"color: #00d7ff; text-decoration-color: #00d7ff\">None</span>, <span style=\"color: #00af00; text-decoration-color: #00af00\">4</span>)         │      <span style=\"color: #00af00; text-decoration-color: #00af00\">8,196</span> │ dense_6[<span style=\"color: #00af00; text-decoration-color: #00af00\">0</span>][<span style=\"color: #00af00; text-decoration-color: #00af00\">0</span>]     │\n",
       "└─────────────────────┴───────────────────┴────────────┴───────────────────┘\n",
       "</pre>\n"
      ],
      "text/plain": [
       "┏━━━━━━━━━━━━━━━━━━━━━┳━━━━━━━━━━━━━━━━━━━┳━━━━━━━━━━━━┳━━━━━━━━━━━━━━━━━━━┓\n",
       "┃\u001b[1m \u001b[0m\u001b[1mLayer (type)       \u001b[0m\u001b[1m \u001b[0m┃\u001b[1m \u001b[0m\u001b[1mOutput Shape     \u001b[0m\u001b[1m \u001b[0m┃\u001b[1m \u001b[0m\u001b[1m   Param #\u001b[0m\u001b[1m \u001b[0m┃\u001b[1m \u001b[0m\u001b[1mConnected to     \u001b[0m\u001b[1m \u001b[0m┃\n",
       "┡━━━━━━━━━━━━━━━━━━━━━╇━━━━━━━━━━━━━━━━━━━╇━━━━━━━━━━━━╇━━━━━━━━━━━━━━━━━━━┩\n",
       "│ input_layer_2       │ (\u001b[38;5;45mNone\u001b[0m, \u001b[38;5;34m256\u001b[0m, \u001b[38;5;34m512\u001b[0m,  │          \u001b[38;5;34m0\u001b[0m │ -                 │\n",
       "│ (\u001b[38;5;33mInputLayer\u001b[0m)        │ \u001b[38;5;34m3\u001b[0m)                │            │                   │\n",
       "├─────────────────────┼───────────────────┼────────────┼───────────────────┤\n",
       "│ vgg19 (\u001b[38;5;33mFunctional\u001b[0m)  │ (\u001b[38;5;45mNone\u001b[0m, \u001b[38;5;34m8\u001b[0m, \u001b[38;5;34m16\u001b[0m,     │ \u001b[38;5;34m20,024,384\u001b[0m │ input_layer_2[\u001b[38;5;34m0\u001b[0m]… │\n",
       "│                     │ \u001b[38;5;34m512\u001b[0m)              │            │                   │\n",
       "├─────────────────────┼───────────────────┼────────────┼───────────────────┤\n",
       "│ global_max_pooling… │ (\u001b[38;5;45mNone\u001b[0m, \u001b[38;5;34m512\u001b[0m)       │          \u001b[38;5;34m0\u001b[0m │ vgg19[\u001b[38;5;34m0\u001b[0m][\u001b[38;5;34m0\u001b[0m]       │\n",
       "│ (\u001b[38;5;33mGlobalMaxPooling2…\u001b[0m │                   │            │                   │\n",
       "├─────────────────────┼───────────────────┼────────────┼───────────────────┤\n",
       "│ global_max_pooling… │ (\u001b[38;5;45mNone\u001b[0m, \u001b[38;5;34m512\u001b[0m)       │          \u001b[38;5;34m0\u001b[0m │ vgg19[\u001b[38;5;34m0\u001b[0m][\u001b[38;5;34m0\u001b[0m]       │\n",
       "│ (\u001b[38;5;33mGlobalMaxPooling2…\u001b[0m │                   │            │                   │\n",
       "├─────────────────────┼───────────────────┼────────────┼───────────────────┤\n",
       "│ dense_4 (\u001b[38;5;33mDense\u001b[0m)     │ (\u001b[38;5;45mNone\u001b[0m, \u001b[38;5;34m2048\u001b[0m)      │  \u001b[38;5;34m1,050,624\u001b[0m │ global_max_pooli… │\n",
       "├─────────────────────┼───────────────────┼────────────┼───────────────────┤\n",
       "│ dense_6 (\u001b[38;5;33mDense\u001b[0m)     │ (\u001b[38;5;45mNone\u001b[0m, \u001b[38;5;34m2048\u001b[0m)      │  \u001b[38;5;34m1,050,624\u001b[0m │ global_max_pooli… │\n",
       "├─────────────────────┼───────────────────┼────────────┼───────────────────┤\n",
       "│ dense_5 (\u001b[38;5;33mDense\u001b[0m)     │ (\u001b[38;5;45mNone\u001b[0m, \u001b[38;5;34m1\u001b[0m)         │      \u001b[38;5;34m2,049\u001b[0m │ dense_4[\u001b[38;5;34m0\u001b[0m][\u001b[38;5;34m0\u001b[0m]     │\n",
       "├─────────────────────┼───────────────────┼────────────┼───────────────────┤\n",
       "│ dense_7 (\u001b[38;5;33mDense\u001b[0m)     │ (\u001b[38;5;45mNone\u001b[0m, \u001b[38;5;34m4\u001b[0m)         │      \u001b[38;5;34m8,196\u001b[0m │ dense_6[\u001b[38;5;34m0\u001b[0m][\u001b[38;5;34m0\u001b[0m]     │\n",
       "└─────────────────────┴───────────────────┴────────────┴───────────────────┘\n"
      ]
     },
     "metadata": {},
     "output_type": "display_data"
    },
    {
     "data": {
      "text/html": [
       "<pre style=\"white-space:pre;overflow-x:auto;line-height:normal;font-family:Menlo,'DejaVu Sans Mono',consolas,'Courier New',monospace\"><span style=\"font-weight: bold\"> Total params: </span><span style=\"color: #00af00; text-decoration-color: #00af00\">22,135,877</span> (84.44 MB)\n",
       "</pre>\n"
      ],
      "text/plain": [
       "\u001b[1m Total params: \u001b[0m\u001b[38;5;34m22,135,877\u001b[0m (84.44 MB)\n"
      ]
     },
     "metadata": {},
     "output_type": "display_data"
    },
    {
     "data": {
      "text/html": [
       "<pre style=\"white-space:pre;overflow-x:auto;line-height:normal;font-family:Menlo,'DejaVu Sans Mono',consolas,'Courier New',monospace\"><span style=\"font-weight: bold\"> Trainable params: </span><span style=\"color: #00af00; text-decoration-color: #00af00\">22,135,877</span> (84.44 MB)\n",
       "</pre>\n"
      ],
      "text/plain": [
       "\u001b[1m Trainable params: \u001b[0m\u001b[38;5;34m22,135,877\u001b[0m (84.44 MB)\n"
      ]
     },
     "metadata": {},
     "output_type": "display_data"
    },
    {
     "data": {
      "text/html": [
       "<pre style=\"white-space:pre;overflow-x:auto;line-height:normal;font-family:Menlo,'DejaVu Sans Mono',consolas,'Courier New',monospace\"><span style=\"font-weight: bold\"> Non-trainable params: </span><span style=\"color: #00af00; text-decoration-color: #00af00\">0</span> (0.00 B)\n",
       "</pre>\n"
      ],
      "text/plain": [
       "\u001b[1m Non-trainable params: \u001b[0m\u001b[38;5;34m0\u001b[0m (0.00 B)\n"
      ]
     },
     "metadata": {},
     "output_type": "display_data"
    }
   ],
   "source": [
    "def build_model():\n",
    "    input_layer = Input(shape=(256, 512, 3))\n",
    "\n",
    "    vgg = VGG19(include_top=False)(input_layer)\n",
    "\n",
    "    # Classification Model\n",
    "    f1 = GlobalMaxPooling2D()(vgg)\n",
    "    class1 = Dense(2048, activation=\"relu\")(f1)\n",
    "    class2 = Dense(1, activation=\"sigmoid\")(class1)\n",
    "\n",
    "    # Bounding box model\n",
    "    f2 = GlobalMaxPooling2D()(vgg)\n",
    "    regress1 = Dense(2048, activation=\"relu\")(f2)\n",
    "    regress2 = Dense(4, activation=\"linear\")(regress1)\n",
    "\n",
    "    facetracker = Model(inputs=input_layer, outputs=[class2, regress2])\n",
    "    return facetracker\n",
    "\n",
    "\n",
    "model = build_model()\n",
    "model.summary()"
   ]
  },
  {
   "cell_type": "markdown",
   "metadata": {},
   "source": [
    "## [train]()"
   ]
  },
  {
   "cell_type": "code",
   "execution_count": 41,
   "metadata": {},
   "outputs": [
    {
     "name": "stdout",
     "output_type": "stream",
     "text": [
      "Epoch 1/10\n"
     ]
    },
    {
     "name": "stderr",
     "output_type": "stream",
     "text": [
      "/home/hany_jr/anaconda3/envs/tf_gpu/lib/python3.10/site-packages/keras/src/optimizers/base_optimizer.py:678: UserWarning: Gradients do not exist for variables ['kernel', 'bias', 'kernel', 'bias'] when minimizing the loss. If using `model.compile()`, did you forget to provide a `loss` argument?\n",
      "  warnings.warn(\n"
     ]
    },
    {
     "name": "stdout",
     "output_type": "stream",
     "text": [
      "\u001b[1m4019/4020\u001b[0m \u001b[32m━━━━━━━━━━━━━━━━━━━\u001b[0m\u001b[37m━\u001b[0m \u001b[1m0s\u001b[0m 43ms/step - dense_5_accuracy: 0.7265 - loss: 0.2239"
     ]
    },
    {
     "name": "stderr",
     "output_type": "stream",
     "text": [
      "2024-10-01 04:59:52.506234: W external/local_tsl/tsl/framework/bfc_allocator.cc:291] Allocator (GPU_0_bfc) ran out of memory trying to allocate 16.20GiB with freed_by_count=0. The caller indicates that this is not a failure, but this may mean that there could be performance gains if more memory were available.\n",
      "2024-10-01 04:59:52.641516: W external/local_tsl/tsl/framework/bfc_allocator.cc:291] Allocator (GPU_0_bfc) ran out of memory trying to allocate 32.39GiB with freed_by_count=0. The caller indicates that this is not a failure, but this may mean that there could be performance gains if more memory were available.\n",
      "2024-10-01 04:59:52.776579: W external/local_tsl/tsl/framework/bfc_allocator.cc:291] Allocator (GPU_0_bfc) ran out of memory trying to allocate 16.30GiB with freed_by_count=0. The caller indicates that this is not a failure, but this may mean that there could be performance gains if more memory were available.\n",
      "2024-10-01 04:59:52.907928: W external/local_tsl/tsl/framework/bfc_allocator.cc:291] Allocator (GPU_0_bfc) ran out of memory trying to allocate 32.59GiB with freed_by_count=0. The caller indicates that this is not a failure, but this may mean that there could be performance gains if more memory were available.\n",
      "2024-10-01 04:59:52.970712: W external/local_tsl/tsl/framework/bfc_allocator.cc:291] Allocator (GPU_0_bfc) ran out of memory trying to allocate 8.29GiB with freed_by_count=0. The caller indicates that this is not a failure, but this may mean that there could be performance gains if more memory were available.\n"
     ]
    },
    {
     "name": "stdout",
     "output_type": "stream",
     "text": [
      "\u001b[1m4020/4020\u001b[0m \u001b[32m━━━━━━━━━━━━━━━━━━━━\u001b[0m\u001b[37m\u001b[0m \u001b[1m189s\u001b[0m 46ms/step - dense_5_accuracy: 0.7265 - loss: 0.2238 - val_dense_5_accuracy: 0.7167 - val_loss: 0.0000e+00\n",
      "Epoch 2/10\n",
      "\u001b[1m4020/4020\u001b[0m \u001b[32m━━━━━━━━━━━━━━━━━━━━\u001b[0m\u001b[37m\u001b[0m \u001b[1m178s\u001b[0m 44ms/step - dense_5_accuracy: 0.7307 - loss: 0.0000e+00 - val_dense_5_accuracy: 0.7167 - val_loss: 0.0000e+00\n",
      "Epoch 3/10\n",
      "\u001b[1m4020/4020\u001b[0m \u001b[32m━━━━━━━━━━━━━━━━━━━━\u001b[0m\u001b[37m\u001b[0m \u001b[1m178s\u001b[0m 44ms/step - dense_5_accuracy: 0.7279 - loss: 0.0000e+00 - val_dense_5_accuracy: 0.7167 - val_loss: 0.0000e+00\n",
      "Epoch 4/10\n",
      "\u001b[1m4020/4020\u001b[0m \u001b[32m━━━━━━━━━━━━━━━━━━━━\u001b[0m\u001b[37m\u001b[0m \u001b[1m180s\u001b[0m 45ms/step - dense_5_accuracy: 0.7272 - loss: 0.0000e+00 - val_dense_5_accuracy: 0.7167 - val_loss: 0.0000e+00\n",
      "Epoch 5/10\n",
      "\u001b[1m4020/4020\u001b[0m \u001b[32m━━━━━━━━━━━━━━━━━━━━\u001b[0m\u001b[37m\u001b[0m \u001b[1m179s\u001b[0m 44ms/step - dense_5_accuracy: 0.7380 - loss: 0.0000e+00 - val_dense_5_accuracy: 0.7167 - val_loss: 0.0000e+00\n",
      "Epoch 6/10\n",
      "\u001b[1m4020/4020\u001b[0m \u001b[32m━━━━━━━━━━━━━━━━━━━━\u001b[0m\u001b[37m\u001b[0m \u001b[1m180s\u001b[0m 45ms/step - dense_5_accuracy: 0.7255 - loss: 0.0000e+00 - val_dense_5_accuracy: 0.7167 - val_loss: 0.0000e+00\n",
      "Epoch 7/10\n",
      "\u001b[1m4020/4020\u001b[0m \u001b[32m━━━━━━━━━━━━━━━━━━━━\u001b[0m\u001b[37m\u001b[0m \u001b[1m183s\u001b[0m 45ms/step - dense_5_accuracy: 0.7259 - loss: 0.0000e+00 - val_dense_5_accuracy: 0.7167 - val_loss: 0.0000e+00\n",
      "Epoch 8/10\n",
      "\u001b[1m4020/4020\u001b[0m \u001b[32m━━━━━━━━━━━━━━━━━━━━\u001b[0m\u001b[37m\u001b[0m \u001b[1m182s\u001b[0m 45ms/step - dense_5_accuracy: 0.7354 - loss: 0.0000e+00 - val_dense_5_accuracy: 0.7167 - val_loss: 0.0000e+00\n",
      "Epoch 9/10\n",
      "\u001b[1m4020/4020\u001b[0m \u001b[32m━━━━━━━━━━━━━━━━━━━━\u001b[0m\u001b[37m\u001b[0m \u001b[1m179s\u001b[0m 44ms/step - dense_5_accuracy: 0.7276 - loss: 0.0000e+00 - val_dense_5_accuracy: 0.7167 - val_loss: 0.0000e+00\n",
      "Epoch 10/10\n",
      "\u001b[1m4020/4020\u001b[0m \u001b[32m━━━━━━━━━━━━━━━━━━━━\u001b[0m\u001b[37m\u001b[0m \u001b[1m181s\u001b[0m 45ms/step - dense_5_accuracy: 0.7238 - loss: 0.0000e+00 - val_dense_5_accuracy: 0.7167 - val_loss: 0.0000e+00\n"
     ]
    },
    {
     "data": {
      "text/plain": [
       "<keras.src.callbacks.history.History at 0x7af4bf585cc0>"
      ]
     },
     "execution_count": 41,
     "metadata": {},
     "output_type": "execute_result"
    }
   ],
   "source": [
    "model.compile(\n",
    "    optimizer=Adam(learning_rate=0.0001),\n",
    "    loss=[\"binary_crossentropy\", \"mse\"],\n",
    "    metrics=[\"accuracy\", \"accuracy\"],\n",
    ")\n",
    "model.fit(train_dataset, epochs=10, validation_data=valid_dataset)"
   ]
  }
 ],
 "metadata": {
  "kernelspec": {
   "display_name": "tf_gpu",
   "language": "python",
   "name": "python3"
  },
  "language_info": {
   "codemirror_mode": {
    "name": "ipython",
    "version": 3
   },
   "file_extension": ".py",
   "mimetype": "text/x-python",
   "name": "python",
   "nbconvert_exporter": "python",
   "pygments_lexer": "ipython3",
   "version": "3.10.14"
  }
 },
 "nbformat": 4,
 "nbformat_minor": 2
}
