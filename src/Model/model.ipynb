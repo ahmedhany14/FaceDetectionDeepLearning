{
 "cells": [
  {
   "cell_type": "code",
   "execution_count": 235,
   "metadata": {},
   "outputs": [],
   "source": [
    "import os\n",
    "import sys\n",
    "import json\n",
    "import cv2\n",
    "import pandas as pd\n",
    "import matplotlib.pyplot as plt\n",
    "import numpy as np\n",
    "from tensorflow.keras.models import load_model\n",
    "from tensorflow.keras.optimizers import Adam, SGD\n",
    "from tensorflow.keras.layers import (\n",
    "    Dense,\n",
    "    Dropout,\n",
    "    Conv2D,\n",
    "    MaxPooling2D,\n",
    "    Flatten,\n",
    "    GlobalMaxPooling2D,\n",
    "    Input,\n",
    ")\n",
    "from tensorflow.keras.models import Sequential, Model\n",
    "from tensorflow.keras.losses import (\n",
    "    categorical_crossentropy,\n",
    "    binary_crossentropy,\n",
    ")\n",
    "from tensorflow.keras.applications import VGG19, VGG16, ResNet50, InceptionV3\n",
    "\n",
    "import tensorflow as tf"
   ]
  },
  {
   "cell_type": "code",
   "execution_count": 23,
   "metadata": {},
   "outputs": [],
   "source": [
    "train_image = os.listdir(\n",
    "    \"/home/hany_jr/Ai/FaceDetectionDeepLearning/Dataset/train_augm/images\"\n",
    ")\n",
    "test_image = os.listdir(\n",
    "    \"/home/hany_jr/Ai/FaceDetectionDeepLearning/Dataset/test_augm/images\"\n",
    ")\n",
    "valid_image = os.listdir(\n",
    "    \"/home/hany_jr/Ai/FaceDetectionDeepLearning/Dataset/valid_augm/images\"\n",
    ")\n",
    "train_image = sorted(train_image)\n",
    "test_image = sorted(test_image)\n",
    "valid_image = sorted(valid_image)"
   ]
  },
  {
   "cell_type": "code",
   "execution_count": 24,
   "metadata": {},
   "outputs": [],
   "source": [
    "train_label = os.listdir(\n",
    "    \"/home/hany_jr/Ai/FaceDetectionDeepLearning/Dataset/train_augm/labels\"\n",
    ")\n",
    "test_label = os.listdir(\n",
    "    \"/home/hany_jr/Ai/FaceDetectionDeepLearning/Dataset/test_augm/labels\"\n",
    ")\n",
    "valid_label = os.listdir(\n",
    "    \"/home/hany_jr/Ai/FaceDetectionDeepLearning/Dataset/valid_augm/labels\"\n",
    ")\n",
    "\n",
    "train_label = sorted(train_label)\n",
    "test_label = sorted(test_label)\n",
    "valid_label = sorted(valid_label)"
   ]
  },
  {
   "cell_type": "markdown",
   "metadata": {},
   "source": [
    "## convert them to dataframe "
   ]
  },
  {
   "cell_type": "code",
   "execution_count": 25,
   "metadata": {},
   "outputs": [],
   "source": [
    "def load_json_data(file_path):\n",
    "    with open(file_path, \"r\") as f:\n",
    "        data = json.load(f)\n",
    "\n",
    "    face = data[\"shapes\"][0][\"label\"]\n",
    "    if face == \"face\":\n",
    "        face = 1\n",
    "        box = data[\"shapes\"][0][\"points\"]\n",
    "\n",
    "        result = [1, box[0][0], box[0][1], box[1][0], box[1][1]]\n",
    "    else:\n",
    "        face = 0\n",
    "\n",
    "        result = [0, 0, 0, 0, 0]\n",
    "\n",
    "    return result\n",
    "\n",
    "\n",
    "face = []\n",
    "x1 = []\n",
    "y1 = []\n",
    "x2 = []\n",
    "y2 = []\n",
    "for i in range(len(train_label)):\n",
    "    train_label[i] = load_json_data(\n",
    "        \"/home/hany_jr/Ai/FaceDetectionDeepLearning/Dataset/train_augm/labels/\"\n",
    "        + train_label[i]\n",
    "    )\n",
    "    face.append(train_label[i][0])\n",
    "    x1.append(train_label[i][1])\n",
    "    y1.append(train_label[i][2])\n",
    "    x2.append(train_label[i][3])\n",
    "    y2.append(train_label[i][4])\n",
    "\n",
    "train_dataFrame = pd.DataFrame(\n",
    "    {\n",
    "        \"image\": train_image,\n",
    "        \"face\": face,\n",
    "        \"x1\": x1,\n",
    "        \"y1\": y1,\n",
    "        \"x2\": x2,\n",
    "        \"y2\": y2,\n",
    "    }\n",
    ")\n",
    "\n",
    "face = []\n",
    "x1 = []\n",
    "y1 = []\n",
    "x2 = []\n",
    "y2 = []\n",
    "\n",
    "for i in range(len(test_label)):\n",
    "    test_label[i] = load_json_data(\n",
    "        \"/home/hany_jr/Ai/FaceDetectionDeepLearning/Dataset/test_augm/labels/\"\n",
    "        + test_label[i]\n",
    "    )\n",
    "    face.append(test_label[i][0])\n",
    "    x1.append(test_label[i][1])\n",
    "    y1.append(test_label[i][2])\n",
    "    x2.append(test_label[i][3])\n",
    "    y2.append(test_label[i][4])\n",
    "\n",
    "test_dataFrame = pd.DataFrame(\n",
    "    {\n",
    "        \"image\": test_image,\n",
    "        \"face\": face,\n",
    "        \"x1\": x1,\n",
    "        \"y1\": y1,\n",
    "        \"x2\": x2,\n",
    "        \"y2\": y2,\n",
    "    }\n",
    ")\n",
    "\n",
    "\n",
    "face = []\n",
    "x1 = []\n",
    "y1 = []\n",
    "x2 = []\n",
    "y2 = []\n",
    "\n",
    "for i in range(len(valid_label)):\n",
    "    valid_label[i] = load_json_data(\n",
    "        \"/home/hany_jr/Ai/FaceDetectionDeepLearning/Dataset/valid_augm/labels/\"\n",
    "        + valid_label[i]\n",
    "    )\n",
    "    face.append(valid_label[i][0])\n",
    "    x1.append(valid_label[i][1])\n",
    "    y1.append(valid_label[i][2])\n",
    "    x2.append(valid_label[i][3])\n",
    "    y2.append(valid_label[i][4])\n",
    "\n",
    "valid_dataFrame = pd.DataFrame(\n",
    "    {\n",
    "        \"image\": test_image,\n",
    "        \"face\": face,\n",
    "        \"x1\": x1,\n",
    "        \"y1\": y1,\n",
    "        \"x2\": x2,\n",
    "        \"y2\": y2,\n",
    "    }\n",
    ")"
   ]
  },
  {
   "cell_type": "code",
   "execution_count": 28,
   "metadata": {},
   "outputs": [],
   "source": [
    "face.clear()\n",
    "x1.clear()\n",
    "y1.clear()\n",
    "x2.clear()\n",
    "y2.clear()\n",
    "train_image.clear()\n",
    "test_image.clear()\n",
    "valid_image.clear()\n",
    "train_label.clear()\n",
    "test_label.clear()\n",
    "valid_label.clear()"
   ]
  },
  {
   "cell_type": "code",
   "execution_count": 29,
   "metadata": {},
   "outputs": [
    {
     "data": {
      "text/html": [
       "<div>\n",
       "<style scoped>\n",
       "    .dataframe tbody tr th:only-of-type {\n",
       "        vertical-align: middle;\n",
       "    }\n",
       "\n",
       "    .dataframe tbody tr th {\n",
       "        vertical-align: top;\n",
       "    }\n",
       "\n",
       "    .dataframe thead th {\n",
       "        text-align: right;\n",
       "    }\n",
       "</style>\n",
       "<table border=\"1\" class=\"dataframe\">\n",
       "  <thead>\n",
       "    <tr style=\"text-align: right;\">\n",
       "      <th></th>\n",
       "      <th>image</th>\n",
       "      <th>face</th>\n",
       "      <th>x1</th>\n",
       "      <th>y1</th>\n",
       "      <th>x2</th>\n",
       "      <th>y2</th>\n",
       "    </tr>\n",
       "  </thead>\n",
       "  <tbody>\n",
       "    <tr>\n",
       "      <th>0</th>\n",
       "      <td>00a6fab8-7396-11ef-a98c-9c443d1ab0ba0.jpg</td>\n",
       "      <td>0</td>\n",
       "      <td>0.0</td>\n",
       "      <td>0.000000</td>\n",
       "      <td>0.000000</td>\n",
       "      <td>0.000000</td>\n",
       "    </tr>\n",
       "    <tr>\n",
       "      <th>1</th>\n",
       "      <td>00a6fab8-7396-11ef-a98c-9c443d1ab0ba1.jpg</td>\n",
       "      <td>1</td>\n",
       "      <td>434.0</td>\n",
       "      <td>157.000000</td>\n",
       "      <td>268.000000</td>\n",
       "      <td>0.000000</td>\n",
       "    </tr>\n",
       "    <tr>\n",
       "      <th>2</th>\n",
       "      <td>00a6fab8-7396-11ef-a98c-9c443d1ab0ba10.jpg</td>\n",
       "      <td>1</td>\n",
       "      <td>355.0</td>\n",
       "      <td>249.999985</td>\n",
       "      <td>189.000015</td>\n",
       "      <td>76.000008</td>\n",
       "    </tr>\n",
       "    <tr>\n",
       "      <th>3</th>\n",
       "      <td>00a6fab8-7396-11ef-a98c-9c443d1ab0ba11.jpg</td>\n",
       "      <td>1</td>\n",
       "      <td>217.0</td>\n",
       "      <td>256.000000</td>\n",
       "      <td>51.000015</td>\n",
       "      <td>118.000008</td>\n",
       "    </tr>\n",
       "    <tr>\n",
       "      <th>4</th>\n",
       "      <td>00a6fab8-7396-11ef-a98c-9c443d1ab0ba12.jpg</td>\n",
       "      <td>0</td>\n",
       "      <td>0.0</td>\n",
       "      <td>0.000000</td>\n",
       "      <td>0.000000</td>\n",
       "      <td>0.000000</td>\n",
       "    </tr>\n",
       "  </tbody>\n",
       "</table>\n",
       "</div>"
      ],
      "text/plain": [
       "                                        image  face     x1          y1  \\\n",
       "0   00a6fab8-7396-11ef-a98c-9c443d1ab0ba0.jpg     0    0.0    0.000000   \n",
       "1   00a6fab8-7396-11ef-a98c-9c443d1ab0ba1.jpg     1  434.0  157.000000   \n",
       "2  00a6fab8-7396-11ef-a98c-9c443d1ab0ba10.jpg     1  355.0  249.999985   \n",
       "3  00a6fab8-7396-11ef-a98c-9c443d1ab0ba11.jpg     1  217.0  256.000000   \n",
       "4  00a6fab8-7396-11ef-a98c-9c443d1ab0ba12.jpg     0    0.0    0.000000   \n",
       "\n",
       "           x2          y2  \n",
       "0    0.000000    0.000000  \n",
       "1  268.000000    0.000000  \n",
       "2  189.000015   76.000008  \n",
       "3   51.000015  118.000008  \n",
       "4    0.000000    0.000000  "
      ]
     },
     "execution_count": 29,
     "metadata": {},
     "output_type": "execute_result"
    }
   ],
   "source": [
    "train_dataFrame.head()"
   ]
  },
  {
   "cell_type": "code",
   "execution_count": 30,
   "metadata": {},
   "outputs": [
    {
     "data": {
      "text/html": [
       "<div>\n",
       "<style scoped>\n",
       "    .dataframe tbody tr th:only-of-type {\n",
       "        vertical-align: middle;\n",
       "    }\n",
       "\n",
       "    .dataframe tbody tr th {\n",
       "        vertical-align: top;\n",
       "    }\n",
       "\n",
       "    .dataframe thead th {\n",
       "        text-align: right;\n",
       "    }\n",
       "</style>\n",
       "<table border=\"1\" class=\"dataframe\">\n",
       "  <thead>\n",
       "    <tr style=\"text-align: right;\">\n",
       "      <th></th>\n",
       "      <th>image</th>\n",
       "      <th>face</th>\n",
       "      <th>x1</th>\n",
       "      <th>y1</th>\n",
       "      <th>x2</th>\n",
       "      <th>y2</th>\n",
       "    </tr>\n",
       "  </thead>\n",
       "  <tbody>\n",
       "    <tr>\n",
       "      <th>0</th>\n",
       "      <td>e4af90cc-7395-11ef-a98c-9c443d1ab0ba0.jpg</td>\n",
       "      <td>0</td>\n",
       "      <td>0.000000</td>\n",
       "      <td>0.0</td>\n",
       "      <td>0.000000</td>\n",
       "      <td>0.000000</td>\n",
       "    </tr>\n",
       "    <tr>\n",
       "      <th>1</th>\n",
       "      <td>e4af90cc-7395-11ef-a98c-9c443d1ab0ba1.jpg</td>\n",
       "      <td>1</td>\n",
       "      <td>236.999985</td>\n",
       "      <td>256.0</td>\n",
       "      <td>44.000031</td>\n",
       "      <td>49.999989</td>\n",
       "    </tr>\n",
       "    <tr>\n",
       "      <th>2</th>\n",
       "      <td>e4af90cc-7395-11ef-a98c-9c443d1ab0ba10.jpg</td>\n",
       "      <td>1</td>\n",
       "      <td>512.000000</td>\n",
       "      <td>256.0</td>\n",
       "      <td>452.000000</td>\n",
       "      <td>49.999989</td>\n",
       "    </tr>\n",
       "    <tr>\n",
       "      <th>3</th>\n",
       "      <td>e4af90cc-7395-11ef-a98c-9c443d1ab0ba11.jpg</td>\n",
       "      <td>0</td>\n",
       "      <td>0.000000</td>\n",
       "      <td>0.0</td>\n",
       "      <td>0.000000</td>\n",
       "      <td>0.000000</td>\n",
       "    </tr>\n",
       "    <tr>\n",
       "      <th>4</th>\n",
       "      <td>e4af90cc-7395-11ef-a98c-9c443d1ab0ba12.jpg</td>\n",
       "      <td>0</td>\n",
       "      <td>0.000000</td>\n",
       "      <td>0.0</td>\n",
       "      <td>0.000000</td>\n",
       "      <td>0.000000</td>\n",
       "    </tr>\n",
       "  </tbody>\n",
       "</table>\n",
       "</div>"
      ],
      "text/plain": [
       "                                        image  face          x1     y1  \\\n",
       "0   e4af90cc-7395-11ef-a98c-9c443d1ab0ba0.jpg     0    0.000000    0.0   \n",
       "1   e4af90cc-7395-11ef-a98c-9c443d1ab0ba1.jpg     1  236.999985  256.0   \n",
       "2  e4af90cc-7395-11ef-a98c-9c443d1ab0ba10.jpg     1  512.000000  256.0   \n",
       "3  e4af90cc-7395-11ef-a98c-9c443d1ab0ba11.jpg     0    0.000000    0.0   \n",
       "4  e4af90cc-7395-11ef-a98c-9c443d1ab0ba12.jpg     0    0.000000    0.0   \n",
       "\n",
       "           x2         y2  \n",
       "0    0.000000   0.000000  \n",
       "1   44.000031  49.999989  \n",
       "2  452.000000  49.999989  \n",
       "3    0.000000   0.000000  \n",
       "4    0.000000   0.000000  "
      ]
     },
     "execution_count": 30,
     "metadata": {},
     "output_type": "execute_result"
    }
   ],
   "source": [
    "test_dataFrame.head()"
   ]
  },
  {
   "cell_type": "code",
   "execution_count": 31,
   "metadata": {},
   "outputs": [
    {
     "data": {
      "text/html": [
       "<div>\n",
       "<style scoped>\n",
       "    .dataframe tbody tr th:only-of-type {\n",
       "        vertical-align: middle;\n",
       "    }\n",
       "\n",
       "    .dataframe tbody tr th {\n",
       "        vertical-align: top;\n",
       "    }\n",
       "\n",
       "    .dataframe thead th {\n",
       "        text-align: right;\n",
       "    }\n",
       "</style>\n",
       "<table border=\"1\" class=\"dataframe\">\n",
       "  <thead>\n",
       "    <tr style=\"text-align: right;\">\n",
       "      <th></th>\n",
       "      <th>image</th>\n",
       "      <th>face</th>\n",
       "      <th>x1</th>\n",
       "      <th>y1</th>\n",
       "      <th>x2</th>\n",
       "      <th>y2</th>\n",
       "    </tr>\n",
       "  </thead>\n",
       "  <tbody>\n",
       "    <tr>\n",
       "      <th>0</th>\n",
       "      <td>e4af90cc-7395-11ef-a98c-9c443d1ab0ba0.jpg</td>\n",
       "      <td>1</td>\n",
       "      <td>512.0</td>\n",
       "      <td>79.000008</td>\n",
       "      <td>283.999969</td>\n",
       "      <td>0.0</td>\n",
       "    </tr>\n",
       "    <tr>\n",
       "      <th>1</th>\n",
       "      <td>e4af90cc-7395-11ef-a98c-9c443d1ab0ba1.jpg</td>\n",
       "      <td>1</td>\n",
       "      <td>512.0</td>\n",
       "      <td>256.000000</td>\n",
       "      <td>306.000000</td>\n",
       "      <td>97.0</td>\n",
       "    </tr>\n",
       "    <tr>\n",
       "      <th>2</th>\n",
       "      <td>e4af90cc-7395-11ef-a98c-9c443d1ab0ba10.jpg</td>\n",
       "      <td>1</td>\n",
       "      <td>442.0</td>\n",
       "      <td>256.000000</td>\n",
       "      <td>208.999969</td>\n",
       "      <td>0.0</td>\n",
       "    </tr>\n",
       "    <tr>\n",
       "      <th>3</th>\n",
       "      <td>e4af90cc-7395-11ef-a98c-9c443d1ab0ba11.jpg</td>\n",
       "      <td>0</td>\n",
       "      <td>0.0</td>\n",
       "      <td>0.000000</td>\n",
       "      <td>0.000000</td>\n",
       "      <td>0.0</td>\n",
       "    </tr>\n",
       "    <tr>\n",
       "      <th>4</th>\n",
       "      <td>e4af90cc-7395-11ef-a98c-9c443d1ab0ba12.jpg</td>\n",
       "      <td>1</td>\n",
       "      <td>512.0</td>\n",
       "      <td>238.000000</td>\n",
       "      <td>375.000000</td>\n",
       "      <td>0.0</td>\n",
       "    </tr>\n",
       "  </tbody>\n",
       "</table>\n",
       "</div>"
      ],
      "text/plain": [
       "                                        image  face     x1          y1  \\\n",
       "0   e4af90cc-7395-11ef-a98c-9c443d1ab0ba0.jpg     1  512.0   79.000008   \n",
       "1   e4af90cc-7395-11ef-a98c-9c443d1ab0ba1.jpg     1  512.0  256.000000   \n",
       "2  e4af90cc-7395-11ef-a98c-9c443d1ab0ba10.jpg     1  442.0  256.000000   \n",
       "3  e4af90cc-7395-11ef-a98c-9c443d1ab0ba11.jpg     0    0.0    0.000000   \n",
       "4  e4af90cc-7395-11ef-a98c-9c443d1ab0ba12.jpg     1  512.0  238.000000   \n",
       "\n",
       "           x2    y2  \n",
       "0  283.999969   0.0  \n",
       "1  306.000000  97.0  \n",
       "2  208.999969   0.0  \n",
       "3    0.000000   0.0  \n",
       "4  375.000000   0.0  "
      ]
     },
     "execution_count": 31,
     "metadata": {},
     "output_type": "execute_result"
    }
   ],
   "source": [
    "valid_dataFrame.head()"
   ]
  },
  {
   "cell_type": "markdown",
   "metadata": {},
   "source": [
    "## [Prepare data format]()"
   ]
  },
  {
   "cell_type": "code",
   "execution_count": 190,
   "metadata": {},
   "outputs": [],
   "source": [
    "train_images = (\n",
    "    \"/home/hany_jr/Ai/FaceDetectionDeepLearning/Dataset/train_augm/images/\"\n",
    "    + train_dataFrame.iloc[:, 0]\n",
    ")\n",
    "test_images = (\n",
    "    \"/home/hany_jr/Ai/FaceDetectionDeepLearning/Dataset/test_augm/images/\"\n",
    "    + test_dataFrame.iloc[:, 0]\n",
    ")\n",
    "valid_images = (\n",
    "    \"/home/hany_jr/Ai/FaceDetectionDeepLearning/Dataset/valid_augm/images/\"\n",
    "    + valid_dataFrame.iloc[:, 0]\n",
    ")\n",
    "\n",
    "train_labels = train_dataFrame.iloc[:, 1:]\n",
    "test_labels = test_dataFrame.iloc[:, 1:]\n",
    "valid_labels = valid_dataFrame.iloc[:, 1:]"
   ]
  },
  {
   "cell_type": "code",
   "execution_count": 218,
   "metadata": {},
   "outputs": [],
   "source": [
    "def read_image(image_path, label):\n",
    "    image = tf.io.read_file(image_path)\n",
    "    image = tf.image.decode_jpeg(image, channels=3)\n",
    "    image.set_shape((256, 512, 3))\n",
    "\n",
    "    # normalize image\n",
    "\n",
    "    image = tf.cast(image, tf.float32) / 255.0\n",
    "\n",
    "    label[0].set_shape([])\n",
    "    label[1].set_shape([])\n",
    "    label[2].set_shape([])\n",
    "    label[3].set_shape([])\n",
    "    label[4].set_shape([])\n",
    "\n",
    "    face = label[0]\n",
    "    box = [label[1], label[2], label[3], label[4]]\n",
    "    return image, [face], box"
   ]
  },
  {
   "cell_type": "code",
   "execution_count": 228,
   "metadata": {},
   "outputs": [],
   "source": [
    "train_dataset = tf.data.Dataset.from_tensor_slices((train_images, train_labels))\n",
    "train_dataset = (\n",
    "    train_dataset.shuffle(buffer_size=len(train_labels)).map(read_image).batch(1)\n",
    ")\n",
    "\n",
    "\n",
    "test_dataset = tf.data.Dataset.from_tensor_slices((test_images, test_labels))\n",
    "test_dataset = test_dataset.shuffle(buffer_size=len(test_labels)).map(read_image)\n",
    "\n",
    "valid_dataset = tf.data.Dataset.from_tensor_slices((valid_images, valid_labels))\n",
    "valid_dataset = valid_dataset.shuffle(buffer_size=len(valid_labels)).map(read_image)"
   ]
  },
  {
   "cell_type": "code",
   "execution_count": 229,
   "metadata": {},
   "outputs": [
    {
     "data": {
      "text/plain": [
       "(1, 256, 512, 3)"
      ]
     },
     "execution_count": 229,
     "metadata": {},
     "output_type": "execute_result"
    }
   ],
   "source": [
    "train_dataset.as_numpy_iterator().next()[0].shape"
   ]
  },
  {
   "cell_type": "code",
   "execution_count": 236,
   "metadata": {},
   "outputs": [
    {
     "name": "stdout",
     "output_type": "stream",
     "text": [
      "Downloading data from https://storage.googleapis.com/tensorflow/keras-applications/resnet/resnet50_weights_tf_dim_ordering_tf_kernels_notop.h5\n",
      "\u001b[1m94765736/94765736\u001b[0m \u001b[32m━━━━━━━━━━━━━━━━━━━━\u001b[0m\u001b[37m\u001b[0m \u001b[1m163s\u001b[0m 2us/step\n"
     ]
    },
    {
     "data": {
      "text/html": [
       "<pre style=\"white-space:pre;overflow-x:auto;line-height:normal;font-family:Menlo,'DejaVu Sans Mono',consolas,'Courier New',monospace\"><span style=\"font-weight: bold\">Model: \"functional_28\"</span>\n",
       "</pre>\n"
      ],
      "text/plain": [
       "\u001b[1mModel: \"functional_28\"\u001b[0m\n"
      ]
     },
     "metadata": {},
     "output_type": "display_data"
    },
    {
     "data": {
      "text/html": [
       "<pre style=\"white-space:pre;overflow-x:auto;line-height:normal;font-family:Menlo,'DejaVu Sans Mono',consolas,'Courier New',monospace\">┏━━━━━━━━━━━━━━━━━━━━━┳━━━━━━━━━━━━━━━━━━━┳━━━━━━━━━━━━┳━━━━━━━━━━━━━━━━━━━┓\n",
       "┃<span style=\"font-weight: bold\"> Layer (type)        </span>┃<span style=\"font-weight: bold\"> Output Shape      </span>┃<span style=\"font-weight: bold\">    Param # </span>┃<span style=\"font-weight: bold\"> Connected to      </span>┃\n",
       "┡━━━━━━━━━━━━━━━━━━━━━╇━━━━━━━━━━━━━━━━━━━╇━━━━━━━━━━━━╇━━━━━━━━━━━━━━━━━━━┩\n",
       "│ input_layer_63      │ (<span style=\"color: #00d7ff; text-decoration-color: #00d7ff\">None</span>, <span style=\"color: #00af00; text-decoration-color: #00af00\">256</span>, <span style=\"color: #00af00; text-decoration-color: #00af00\">512</span>,  │          <span style=\"color: #00af00; text-decoration-color: #00af00\">0</span> │ -                 │\n",
       "│ (<span style=\"color: #0087ff; text-decoration-color: #0087ff\">InputLayer</span>)        │ <span style=\"color: #00af00; text-decoration-color: #00af00\">3</span>)                │            │                   │\n",
       "├─────────────────────┼───────────────────┼────────────┼───────────────────┤\n",
       "│ resnet50            │ (<span style=\"color: #00d7ff; text-decoration-color: #00d7ff\">None</span>, <span style=\"color: #00af00; text-decoration-color: #00af00\">8</span>, <span style=\"color: #00af00; text-decoration-color: #00af00\">16</span>,     │ <span style=\"color: #00af00; text-decoration-color: #00af00\">23,587,712</span> │ input_layer_63[<span style=\"color: #00af00; text-decoration-color: #00af00\">0</span>… │\n",
       "│ (<span style=\"color: #0087ff; text-decoration-color: #0087ff\">Functional</span>)        │ <span style=\"color: #00af00; text-decoration-color: #00af00\">2048</span>)             │            │                   │\n",
       "├─────────────────────┼───────────────────┼────────────┼───────────────────┤\n",
       "│ global_max_pooling… │ (<span style=\"color: #00d7ff; text-decoration-color: #00d7ff\">None</span>, <span style=\"color: #00af00; text-decoration-color: #00af00\">2048</span>)      │          <span style=\"color: #00af00; text-decoration-color: #00af00\">0</span> │ resnet50[<span style=\"color: #00af00; text-decoration-color: #00af00\">0</span>][<span style=\"color: #00af00; text-decoration-color: #00af00\">0</span>]    │\n",
       "│ (<span style=\"color: #0087ff; text-decoration-color: #0087ff\">GlobalMaxPooling2…</span> │                   │            │                   │\n",
       "├─────────────────────┼───────────────────┼────────────┼───────────────────┤\n",
       "│ global_max_pooling… │ (<span style=\"color: #00d7ff; text-decoration-color: #00d7ff\">None</span>, <span style=\"color: #00af00; text-decoration-color: #00af00\">2048</span>)      │          <span style=\"color: #00af00; text-decoration-color: #00af00\">0</span> │ resnet50[<span style=\"color: #00af00; text-decoration-color: #00af00\">0</span>][<span style=\"color: #00af00; text-decoration-color: #00af00\">0</span>]    │\n",
       "│ (<span style=\"color: #0087ff; text-decoration-color: #0087ff\">GlobalMaxPooling2…</span> │                   │            │                   │\n",
       "├─────────────────────┼───────────────────┼────────────┼───────────────────┤\n",
       "│ dense_112 (<span style=\"color: #0087ff; text-decoration-color: #0087ff\">Dense</span>)   │ (<span style=\"color: #00d7ff; text-decoration-color: #00d7ff\">None</span>, <span style=\"color: #00af00; text-decoration-color: #00af00\">10</span>)        │     <span style=\"color: #00af00; text-decoration-color: #00af00\">20,490</span> │ global_max_pooli… │\n",
       "├─────────────────────┼───────────────────┼────────────┼───────────────────┤\n",
       "│ dense_114 (<span style=\"color: #0087ff; text-decoration-color: #0087ff\">Dense</span>)   │ (<span style=\"color: #00d7ff; text-decoration-color: #00d7ff\">None</span>, <span style=\"color: #00af00; text-decoration-color: #00af00\">10</span>)        │     <span style=\"color: #00af00; text-decoration-color: #00af00\">20,490</span> │ global_max_pooli… │\n",
       "├─────────────────────┼───────────────────┼────────────┼───────────────────┤\n",
       "│ dense_113 (<span style=\"color: #0087ff; text-decoration-color: #0087ff\">Dense</span>)   │ (<span style=\"color: #00d7ff; text-decoration-color: #00d7ff\">None</span>, <span style=\"color: #00af00; text-decoration-color: #00af00\">1</span>)         │         <span style=\"color: #00af00; text-decoration-color: #00af00\">11</span> │ dense_112[<span style=\"color: #00af00; text-decoration-color: #00af00\">0</span>][<span style=\"color: #00af00; text-decoration-color: #00af00\">0</span>]   │\n",
       "├─────────────────────┼───────────────────┼────────────┼───────────────────┤\n",
       "│ dense_115 (<span style=\"color: #0087ff; text-decoration-color: #0087ff\">Dense</span>)   │ (<span style=\"color: #00d7ff; text-decoration-color: #00d7ff\">None</span>, <span style=\"color: #00af00; text-decoration-color: #00af00\">4</span>)         │         <span style=\"color: #00af00; text-decoration-color: #00af00\">44</span> │ dense_114[<span style=\"color: #00af00; text-decoration-color: #00af00\">0</span>][<span style=\"color: #00af00; text-decoration-color: #00af00\">0</span>]   │\n",
       "└─────────────────────┴───────────────────┴────────────┴───────────────────┘\n",
       "</pre>\n"
      ],
      "text/plain": [
       "┏━━━━━━━━━━━━━━━━━━━━━┳━━━━━━━━━━━━━━━━━━━┳━━━━━━━━━━━━┳━━━━━━━━━━━━━━━━━━━┓\n",
       "┃\u001b[1m \u001b[0m\u001b[1mLayer (type)       \u001b[0m\u001b[1m \u001b[0m┃\u001b[1m \u001b[0m\u001b[1mOutput Shape     \u001b[0m\u001b[1m \u001b[0m┃\u001b[1m \u001b[0m\u001b[1m   Param #\u001b[0m\u001b[1m \u001b[0m┃\u001b[1m \u001b[0m\u001b[1mConnected to     \u001b[0m\u001b[1m \u001b[0m┃\n",
       "┡━━━━━━━━━━━━━━━━━━━━━╇━━━━━━━━━━━━━━━━━━━╇━━━━━━━━━━━━╇━━━━━━━━━━━━━━━━━━━┩\n",
       "│ input_layer_63      │ (\u001b[38;5;45mNone\u001b[0m, \u001b[38;5;34m256\u001b[0m, \u001b[38;5;34m512\u001b[0m,  │          \u001b[38;5;34m0\u001b[0m │ -                 │\n",
       "│ (\u001b[38;5;33mInputLayer\u001b[0m)        │ \u001b[38;5;34m3\u001b[0m)                │            │                   │\n",
       "├─────────────────────┼───────────────────┼────────────┼───────────────────┤\n",
       "│ resnet50            │ (\u001b[38;5;45mNone\u001b[0m, \u001b[38;5;34m8\u001b[0m, \u001b[38;5;34m16\u001b[0m,     │ \u001b[38;5;34m23,587,712\u001b[0m │ input_layer_63[\u001b[38;5;34m0\u001b[0m… │\n",
       "│ (\u001b[38;5;33mFunctional\u001b[0m)        │ \u001b[38;5;34m2048\u001b[0m)             │            │                   │\n",
       "├─────────────────────┼───────────────────┼────────────┼───────────────────┤\n",
       "│ global_max_pooling… │ (\u001b[38;5;45mNone\u001b[0m, \u001b[38;5;34m2048\u001b[0m)      │          \u001b[38;5;34m0\u001b[0m │ resnet50[\u001b[38;5;34m0\u001b[0m][\u001b[38;5;34m0\u001b[0m]    │\n",
       "│ (\u001b[38;5;33mGlobalMaxPooling2…\u001b[0m │                   │            │                   │\n",
       "├─────────────────────┼───────────────────┼────────────┼───────────────────┤\n",
       "│ global_max_pooling… │ (\u001b[38;5;45mNone\u001b[0m, \u001b[38;5;34m2048\u001b[0m)      │          \u001b[38;5;34m0\u001b[0m │ resnet50[\u001b[38;5;34m0\u001b[0m][\u001b[38;5;34m0\u001b[0m]    │\n",
       "│ (\u001b[38;5;33mGlobalMaxPooling2…\u001b[0m │                   │            │                   │\n",
       "├─────────────────────┼───────────────────┼────────────┼───────────────────┤\n",
       "│ dense_112 (\u001b[38;5;33mDense\u001b[0m)   │ (\u001b[38;5;45mNone\u001b[0m, \u001b[38;5;34m10\u001b[0m)        │     \u001b[38;5;34m20,490\u001b[0m │ global_max_pooli… │\n",
       "├─────────────────────┼───────────────────┼────────────┼───────────────────┤\n",
       "│ dense_114 (\u001b[38;5;33mDense\u001b[0m)   │ (\u001b[38;5;45mNone\u001b[0m, \u001b[38;5;34m10\u001b[0m)        │     \u001b[38;5;34m20,490\u001b[0m │ global_max_pooli… │\n",
       "├─────────────────────┼───────────────────┼────────────┼───────────────────┤\n",
       "│ dense_113 (\u001b[38;5;33mDense\u001b[0m)   │ (\u001b[38;5;45mNone\u001b[0m, \u001b[38;5;34m1\u001b[0m)         │         \u001b[38;5;34m11\u001b[0m │ dense_112[\u001b[38;5;34m0\u001b[0m][\u001b[38;5;34m0\u001b[0m]   │\n",
       "├─────────────────────┼───────────────────┼────────────┼───────────────────┤\n",
       "│ dense_115 (\u001b[38;5;33mDense\u001b[0m)   │ (\u001b[38;5;45mNone\u001b[0m, \u001b[38;5;34m4\u001b[0m)         │         \u001b[38;5;34m44\u001b[0m │ dense_114[\u001b[38;5;34m0\u001b[0m][\u001b[38;5;34m0\u001b[0m]   │\n",
       "└─────────────────────┴───────────────────┴────────────┴───────────────────┘\n"
      ]
     },
     "metadata": {},
     "output_type": "display_data"
    },
    {
     "data": {
      "text/html": [
       "<pre style=\"white-space:pre;overflow-x:auto;line-height:normal;font-family:Menlo,'DejaVu Sans Mono',consolas,'Courier New',monospace\"><span style=\"font-weight: bold\"> Total params: </span><span style=\"color: #00af00; text-decoration-color: #00af00\">23,628,747</span> (90.14 MB)\n",
       "</pre>\n"
      ],
      "text/plain": [
       "\u001b[1m Total params: \u001b[0m\u001b[38;5;34m23,628,747\u001b[0m (90.14 MB)\n"
      ]
     },
     "metadata": {},
     "output_type": "display_data"
    },
    {
     "data": {
      "text/html": [
       "<pre style=\"white-space:pre;overflow-x:auto;line-height:normal;font-family:Menlo,'DejaVu Sans Mono',consolas,'Courier New',monospace\"><span style=\"font-weight: bold\"> Trainable params: </span><span style=\"color: #00af00; text-decoration-color: #00af00\">23,575,627</span> (89.93 MB)\n",
       "</pre>\n"
      ],
      "text/plain": [
       "\u001b[1m Trainable params: \u001b[0m\u001b[38;5;34m23,575,627\u001b[0m (89.93 MB)\n"
      ]
     },
     "metadata": {},
     "output_type": "display_data"
    },
    {
     "data": {
      "text/html": [
       "<pre style=\"white-space:pre;overflow-x:auto;line-height:normal;font-family:Menlo,'DejaVu Sans Mono',consolas,'Courier New',monospace\"><span style=\"font-weight: bold\"> Non-trainable params: </span><span style=\"color: #00af00; text-decoration-color: #00af00\">53,120</span> (207.50 KB)\n",
       "</pre>\n"
      ],
      "text/plain": [
       "\u001b[1m Non-trainable params: \u001b[0m\u001b[38;5;34m53,120\u001b[0m (207.50 KB)\n"
      ]
     },
     "metadata": {},
     "output_type": "display_data"
    }
   ],
   "source": [
    "def build_model():\n",
    "    input_layer = Input(shape=(256, 512, 3))\n",
    "\n",
    "    vgg = ResNet50(include_top=False)(input_layer)\n",
    "\n",
    "    # Classification Model\n",
    "    f1 = GlobalMaxPooling2D()(vgg)\n",
    "    class1 = Dense(10, activation=\"relu\")(f1)\n",
    "    class2 = Dense(1, activation=\"sigmoid\")(class1)\n",
    "\n",
    "    # Bounding box model\n",
    "    f2 = GlobalMaxPooling2D()(vgg)\n",
    "    regress1 = Dense(10, activation=\"linear\")(f2)\n",
    "    regress2 = Dense(4, activation=\"linear\")(regress1)\n",
    "\n",
    "    facetracker = Model(inputs=input_layer, outputs=[class2, regress2])\n",
    "    return facetracker\n",
    "\n",
    "\n",
    "model = build_model()\n",
    "model.summary()"
   ]
  },
  {
   "cell_type": "markdown",
   "metadata": {},
   "source": [
    "## [train]()"
   ]
  },
  {
   "cell_type": "code",
   "execution_count": null,
   "metadata": {},
   "outputs": [],
   "source": [
    "model.compile(\n",
    "    optimizer=Adam(learning_rate=0.0001),\n",
    "    loss=[\"binary_crossentropy\", \"mse\"],\n",
    "    metrics=[\"accuracy\", \"accuracy\"],\n",
    ")\n",
    "model.fit(train_dataset, epochs=10)"
   ]
  }
 ],
 "metadata": {
  "kernelspec": {
   "display_name": "base",
   "language": "python",
   "name": "python3"
  },
  "language_info": {
   "codemirror_mode": {
    "name": "ipython",
    "version": 3
   },
   "file_extension": ".py",
   "mimetype": "text/x-python",
   "name": "python",
   "nbconvert_exporter": "python",
   "pygments_lexer": "ipython3",
   "version": "3.12.2"
  }
 },
 "nbformat": 4,
 "nbformat_minor": 2
}
