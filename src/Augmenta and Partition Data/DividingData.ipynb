{
 "cells": [
  {
   "cell_type": "markdown",
   "metadata": {},
   "source": [
    "## [importing modules]()"
   ]
  },
  {
   "cell_type": "code",
   "execution_count": 2,
   "metadata": {},
   "outputs": [],
   "source": [
    "import numpy as np  # for numerical computation\n",
    "import matplotlib.pyplot as plt  # for plotting things\n",
    "import albumentations as augment  # for data augmentation\n",
    "import os  # for file handling\n",
    "import cv2  # for image processing\n",
    "import json  # for reading json files"
   ]
  },
  {
   "cell_type": "code",
   "execution_count": 30,
   "metadata": {},
   "outputs": [
    {
     "data": {
      "text/plain": [
       "(['00a6fab8-7396-11ef-a98c-9c443d1ab0ba.jpg',\n",
       "  '01434210-7396-11ef-a98c-9c443d1ab0ba.jpg',\n",
       "  '01de91ac-7396-11ef-a98c-9c443d1ab0ba.jpg',\n",
       "  '02797690-7396-11ef-a98c-9c443d1ab0ba.jpg',\n",
       "  '03149512-7396-11ef-a98c-9c443d1ab0ba.jpg'],\n",
       " ['00a6fab8-7396-11ef-a98c-9c443d1ab0ba.json',\n",
       "  '01434210-7396-11ef-a98c-9c443d1ab0ba.json',\n",
       "  '01de91ac-7396-11ef-a98c-9c443d1ab0ba.json',\n",
       "  '02797690-7396-11ef-a98c-9c443d1ab0ba.json',\n",
       "  '03149512-7396-11ef-a98c-9c443d1ab0ba.json'])"
      ]
     },
     "execution_count": 30,
     "metadata": {},
     "output_type": "execute_result"
    }
   ],
   "source": [
    "# Open all the images and annotations in the same order that \n",
    "\n",
    "images = os.listdir(\"/home/hany_jr/Ai/FaceDetectionDeepLearning/Dataset/images\")\n",
    "annotations = os.listdir(\"/home/hany_jr/Ai/FaceDetectionDeepLearning/Dataset/labels\")\n",
    "\n",
    "images.sort()\n",
    "annotations.sort()\n",
    "\n",
    "images[:5], annotations[:5]\n"
   ]
  },
  {
   "cell_type": "code",
   "execution_count": null,
   "metadata": {},
   "outputs": [],
   "source": [
    "test_url = \"/home/hany_jr/Ai/FaceDetectionDeepLearning/Dataset/images/\"\n",
    "anno_url = \"/home/hany_jr/Ai/FaceDetectionDeepLearning/Dataset/labels/\"\n",
    "\n",
    "# show the images with the annotations\n",
    "for i in range(len(images)):\n",
    "    with open(anno_url + annotations[i]) as f:\n",
    "        data = json.load(f)\n",
    "\n",
    "        shape = data[\"shapes\"][0][\"points\"]\n",
    "\n",
    "        image = cv2.imread(test_url + images[i])\n",
    "\n",
    "        cord1 = (int(shape[0][0]), int(shape[0][1]))\n",
    "        cord2 = (int(shape[1][0]), int(shape[1][1]))\n",
    "        cv2.rectangle(image, cord1, cord2, (0, 255, 0), 2)\n",
    "        cv2.imshow(\"image\", image)\n",
    "\n",
    "        if cv2.waitKey(0) == ord(\"q\"):\n",
    "            cv2.destroyAllWindows()"
   ]
  },
  {
   "cell_type": "markdown",
   "metadata": {},
   "source": [
    "## [Create a test & train & validate folders]() "
   ]
  },
  {
   "cell_type": "code",
   "execution_count": 31,
   "metadata": {},
   "outputs": [],
   "source": [
    "# create a test folder in Dataset folder, and it will contains 2 folders, one for images and the other for annotations\n",
    "os.makedirs(\n",
    "    \"/home/hany_jr/Ai/FaceDetectionDeepLearning/Dataset/test/images\", exist_ok=True\n",
    ")\n",
    "os.makedirs(\n",
    "    \"/home/hany_jr/Ai/FaceDetectionDeepLearning/Dataset/test/annotations\", exist_ok=True\n",
    ")\n",
    "\n",
    "# create a train folder in Dataset folder, and it will contains 2 folders, one for images and the other for annotations\n",
    "os.makedirs(\n",
    "    \"/home/hany_jr/Ai/FaceDetectionDeepLearning/Dataset/train/images\", exist_ok=True\n",
    ")\n",
    "os.makedirs(\n",
    "    \"/home/hany_jr/Ai/FaceDetectionDeepLearning/Dataset/train/annotations\",\n",
    "    exist_ok=True,\n",
    ")\n",
    "\n",
    "# create a valid folder in Dataset folder, and it will contains 2 folders, one for images and the other for annotations\n",
    "os.makedirs(\n",
    "    \"/home/hany_jr/Ai/FaceDetectionDeepLearning/Dataset/valid/images\", exist_ok=True\n",
    ")\n",
    "os.makedirs(\n",
    "    \"/home/hany_jr/Ai/FaceDetectionDeepLearning/Dataset/valid/annotations\",\n",
    "    exist_ok=True,\n",
    ")"
   ]
  },
  {
   "cell_type": "code",
   "execution_count": 32,
   "metadata": {},
   "outputs": [
    {
     "name": "stdout",
     "output_type": "stream",
     "text": [
      "67 15 15\n"
     ]
    }
   ],
   "source": [
    "\"\"\"\n",
    "Divide the images into 3 sets: train, valid, and test\n",
    "train: 70%\n",
    "valid: 15%\n",
    "test: 15%\n",
    "\"\"\"\n",
    "\n",
    "train = images[: int(0.7 * len(images))]\n",
    "train_annotations = annotations[: int(0.7 * len(images))]\n",
    "\n",
    "valid = images[int(0.7 * len(images)) : int(0.85 * len(images))]\n",
    "valid_annotations = annotations[int(0.7 * len(images)) : int(0.85 * len(images))]\n",
    "\n",
    "test = images[int(0.85 * len(images)) :]\n",
    "test_annotations = annotations[int(0.85 * len(images)) :]\n",
    "\n",
    "print(len(train), len(valid), len(test))"
   ]
  },
  {
   "cell_type": "code",
   "execution_count": 33,
   "metadata": {},
   "outputs": [],
   "source": [
    "# Copy the images to their corresponding folders\n",
    "\n",
    "\n",
    "# this function will copy the images from source folder to destination folder\n",
    "\"\"\"\n",
    "Take the images and copy them from source folder to destination folder\n",
    "\"\"\"\n",
    "\n",
    "\n",
    "def copy_images(images, source_folder, destination_folder):\n",
    "    for image in images:\n",
    "        os.system(f\"cp {source_folder}/{image} {destination_folder}/{image}\")\n",
    "\n",
    "\n",
    "def copy_annotations(annotations, source_folder, destination_folder):\n",
    "    for annotation in annotations:\n",
    "        os.system(f\"cp {source_folder}/{annotation} {destination_folder}/{annotation}\")\n",
    "\n",
    "\n",
    "# copy the images to their corresponding folders\n",
    "\n",
    "# 1) train\n",
    "copy_images(\n",
    "    train,\n",
    "    \"/home/hany_jr/Ai/FaceDetectionDeepLearning/Dataset/images\",\n",
    "    \"/home/hany_jr/Ai/FaceDetectionDeepLearning/Dataset/train/images\",\n",
    ")\n",
    "copy_annotations(\n",
    "    train_annotations,\n",
    "    \"/home/hany_jr/Ai/FaceDetectionDeepLearning/Dataset/labels\",\n",
    "    \"/home/hany_jr/Ai/FaceDetectionDeepLearning/Dataset/train/annotations\",\n",
    ")\n",
    "\n",
    "# 2) test\n",
    "\n",
    "copy_images(\n",
    "    test,\n",
    "    \"/home/hany_jr/Ai/FaceDetectionDeepLearning/Dataset/images\",\n",
    "    \"/home/hany_jr/Ai/FaceDetectionDeepLearning/Dataset/test/images\",\n",
    ")\n",
    "copy_annotations(\n",
    "    test_annotations,\n",
    "    \"/home/hany_jr/Ai/FaceDetectionDeepLearning/Dataset/labels\",\n",
    "    \"/home/hany_jr/Ai/FaceDetectionDeepLearning/Dataset/test/annotations\",\n",
    ")\n",
    "\n",
    "\n",
    "# 3) valid\n",
    "\n",
    "copy_images(\n",
    "    valid,\n",
    "    \"/home/hany_jr/Ai/FaceDetectionDeepLearning/Dataset/images\",\n",
    "    \"/home/hany_jr/Ai/FaceDetectionDeepLearning/Dataset/valid/images\",\n",
    ")\n",
    "copy_annotations(\n",
    "    valid_annotations,\n",
    "    \"/home/hany_jr/Ai/FaceDetectionDeepLearning/Dataset/labels\",\n",
    "    \"/home/hany_jr/Ai/FaceDetectionDeepLearning/Dataset/valid/annotations\",\n",
    ")"
   ]
  }
 ],
 "metadata": {
  "kernelspec": {
   "display_name": "base",
   "language": "python",
   "name": "python3"
  },
  "language_info": {
   "codemirror_mode": {
    "name": "ipython",
    "version": 3
   },
   "file_extension": ".py",
   "mimetype": "text/x-python",
   "name": "python",
   "nbconvert_exporter": "python",
   "pygments_lexer": "ipython3",
   "version": "3.12.2"
  }
 },
 "nbformat": 4,
 "nbformat_minor": 2
}
