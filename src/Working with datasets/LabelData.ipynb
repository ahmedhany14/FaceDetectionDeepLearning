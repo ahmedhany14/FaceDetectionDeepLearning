{
 "cells": [
  {
   "cell_type": "code",
   "execution_count": 1,
   "metadata": {},
   "outputs": [
    {
     "name": "stdout",
     "output_type": "stream",
     "text": [
      "Traceback (most recent call last):\n",
      "  File \"/home/hany_jr/anaconda3/envs/labelme/bin/labelme\", line 5, in <module>\n",
      "    from labelme.__main__ import main\n",
      "  File \"/home/hany_jr/anaconda3/envs/labelme/lib/python3.12/site-packages/labelme/__init__.py\", line 6, in <module>\n",
      "    from qtpy import QT_VERSION\n",
      "  File \"/home/hany_jr/anaconda3/envs/labelme/lib/python3.12/site-packages/qtpy/__init__.py\", line 287, in <module>\n",
      "    raise QtBindingsNotFoundError from None\n",
      "qtpy.QtBindingsNotFoundError: No Qt bindings could be found\n"
     ]
    }
   ],
   "source": [
    "!labelme"
   ]
  }
 ],
 "metadata": {
  "kernelspec": {
   "display_name": "labelme",
   "language": "python",
   "name": "python3"
  },
  "language_info": {
   "codemirror_mode": {
    "name": "ipython",
    "version": 3
   },
   "file_extension": ".py",
   "mimetype": "text/x-python",
   "name": "python",
   "nbconvert_exporter": "python",
   "pygments_lexer": "ipython3",
   "version": "3.12.5"
  }
 },
 "nbformat": 4,
 "nbformat_minor": 2
}
